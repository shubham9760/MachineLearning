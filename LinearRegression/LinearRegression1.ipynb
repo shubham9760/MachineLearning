{
 "cells": [
  {
   "cell_type": "code",
   "execution_count": 109,
   "metadata": {},
   "outputs": [],
   "source": [
    "import pandas as pd\n",
    "import numpy as np \n",
    "import matplotlib.pyplot as plt \n",
    "import seaborn as sns \n",
    "import statsmodels.api as sm \n",
    "from sklearn.preprocessing import LabelEncoder"
   ]
  },
  {
   "cell_type": "code",
   "execution_count": 110,
   "metadata": {},
   "outputs": [
    {
     "data": {
      "text/html": [
       "<div>\n",
       "<style scoped>\n",
       "    .dataframe tbody tr th:only-of-type {\n",
       "        vertical-align: middle;\n",
       "    }\n",
       "\n",
       "    .dataframe tbody tr th {\n",
       "        vertical-align: top;\n",
       "    }\n",
       "\n",
       "    .dataframe thead th {\n",
       "        text-align: right;\n",
       "    }\n",
       "</style>\n",
       "<table border=\"1\" class=\"dataframe\">\n",
       "  <thead>\n",
       "    <tr style=\"text-align: right;\">\n",
       "      <th></th>\n",
       "      <th>Text</th>\n",
       "      <th>Sentiment</th>\n",
       "      <th>Timestamp</th>\n",
       "      <th>User</th>\n",
       "      <th>Platform</th>\n",
       "      <th>Hashtags</th>\n",
       "      <th>Retweets</th>\n",
       "      <th>Likes</th>\n",
       "      <th>Country</th>\n",
       "      <th>Year</th>\n",
       "      <th>Month</th>\n",
       "      <th>Day</th>\n",
       "      <th>Hour</th>\n",
       "    </tr>\n",
       "  </thead>\n",
       "  <tbody>\n",
       "    <tr>\n",
       "      <th>597</th>\n",
       "      <td>Attended a concert and danced the night away. ...</td>\n",
       "      <td>Joy</td>\n",
       "      <td>6/6/2023 22:30</td>\n",
       "      <td>DanceEnthusiast</td>\n",
       "      <td>Facebook</td>\n",
       "      <td>#MusicMagic #TeenConcert</td>\n",
       "      <td>28</td>\n",
       "      <td>55</td>\n",
       "      <td>Canada</td>\n",
       "      <td>2023</td>\n",
       "      <td>6</td>\n",
       "      <td>6</td>\n",
       "      <td>22</td>\n",
       "    </tr>\n",
       "    <tr>\n",
       "      <th>88</th>\n",
       "      <td>Disappointed with the lack of progress in a p...</td>\n",
       "      <td>Disappointed</td>\n",
       "      <td>2/25/2023 9:00</td>\n",
       "      <td>ProjectStruggle</td>\n",
       "      <td>Twitter</td>\n",
       "      <td>#Disappointed #Project</td>\n",
       "      <td>18</td>\n",
       "      <td>35</td>\n",
       "      <td>India</td>\n",
       "      <td>2023</td>\n",
       "      <td>2</td>\n",
       "      <td>25</td>\n",
       "      <td>9</td>\n",
       "    </tr>\n",
       "  </tbody>\n",
       "</table>\n",
       "</div>"
      ],
      "text/plain": [
       "                                                  Text       Sentiment  \\\n",
       "597  Attended a concert and danced the night away. ...            Joy    \n",
       "88    Disappointed with the lack of progress in a p...   Disappointed    \n",
       "\n",
       "          Timestamp               User    Platform  \\\n",
       "597  6/6/2023 22:30   DanceEnthusiast    Facebook    \n",
       "88   2/25/2023 9:00   ProjectStruggle    Twitter     \n",
       "\n",
       "                                         Hashtags  Retweets  Likes  \\\n",
       "597                     #MusicMagic #TeenConcert         28     55   \n",
       "88    #Disappointed #Project                             18     35   \n",
       "\n",
       "          Country  Year  Month  Day  Hour  \n",
       "597        Canada  2023      6    6    22  \n",
       "88    India        2023      2   25     9  "
      ]
     },
     "execution_count": 110,
     "metadata": {},
     "output_type": "execute_result"
    }
   ],
   "source": [
    "df = pd.read_csv(r\"F:\\Self Learning\\Code_basics_projects\\Sentiment Analysis Dataset\\sentimentdataset.csv\")\n",
    "df.sample(2)"
   ]
  },
  {
   "cell_type": "code",
   "execution_count": 111,
   "metadata": {},
   "outputs": [
    {
     "data": {
      "text/plain": [
       "(732, 13)"
      ]
     },
     "execution_count": 111,
     "metadata": {},
     "output_type": "execute_result"
    }
   ],
   "source": [
    "df.shape"
   ]
  },
  {
   "cell_type": "code",
   "execution_count": 112,
   "metadata": {},
   "outputs": [
    {
     "name": "stdout",
     "output_type": "stream",
     "text": [
      "<class 'pandas.core.frame.DataFrame'>\n",
      "RangeIndex: 732 entries, 0 to 731\n",
      "Data columns (total 13 columns):\n",
      " #   Column     Non-Null Count  Dtype \n",
      "---  ------     --------------  ----- \n",
      " 0   Text       732 non-null    object\n",
      " 1   Sentiment  732 non-null    object\n",
      " 2   Timestamp  732 non-null    object\n",
      " 3   User       732 non-null    object\n",
      " 4   Platform   732 non-null    object\n",
      " 5   Hashtags   732 non-null    object\n",
      " 6   Retweets   732 non-null    int64 \n",
      " 7   Likes      732 non-null    int64 \n",
      " 8   Country    732 non-null    object\n",
      " 9   Year       732 non-null    int64 \n",
      " 10  Month      732 non-null    int64 \n",
      " 11  Day        732 non-null    int64 \n",
      " 12  Hour       732 non-null    int64 \n",
      "dtypes: int64(6), object(7)\n",
      "memory usage: 74.5+ KB\n"
     ]
    }
   ],
   "source": [
    "df.info()"
   ]
  },
  {
   "cell_type": "code",
   "execution_count": 113,
   "metadata": {},
   "outputs": [],
   "source": [
    "df[\"Timestamp\"] = pd.to_datetime(df[\"Timestamp\"])"
   ]
  },
  {
   "cell_type": "code",
   "execution_count": 114,
   "metadata": {},
   "outputs": [
    {
     "data": {
      "text/plain": [
       "13"
      ]
     },
     "execution_count": 114,
     "metadata": {},
     "output_type": "execute_result"
    }
   ],
   "source": [
    "df.columns.value_counts().sum()"
   ]
  },
  {
   "cell_type": "code",
   "execution_count": 115,
   "metadata": {},
   "outputs": [],
   "source": [
    "y = df.pop(\"Sentiment\")\n",
    "df.insert(12, \"Sentiment\", y)"
   ]
  },
  {
   "cell_type": "code",
   "execution_count": 116,
   "metadata": {},
   "outputs": [
    {
     "data": {
      "text/html": [
       "<div>\n",
       "<style scoped>\n",
       "    .dataframe tbody tr th:only-of-type {\n",
       "        vertical-align: middle;\n",
       "    }\n",
       "\n",
       "    .dataframe tbody tr th {\n",
       "        vertical-align: top;\n",
       "    }\n",
       "\n",
       "    .dataframe thead th {\n",
       "        text-align: right;\n",
       "    }\n",
       "</style>\n",
       "<table border=\"1\" class=\"dataframe\">\n",
       "  <thead>\n",
       "    <tr style=\"text-align: right;\">\n",
       "      <th></th>\n",
       "      <th>Text</th>\n",
       "      <th>Timestamp</th>\n",
       "      <th>User</th>\n",
       "      <th>Platform</th>\n",
       "      <th>Hashtags</th>\n",
       "      <th>Retweets</th>\n",
       "      <th>Likes</th>\n",
       "      <th>Country</th>\n",
       "      <th>Year</th>\n",
       "      <th>Month</th>\n",
       "      <th>Day</th>\n",
       "      <th>Hour</th>\n",
       "      <th>Sentiment</th>\n",
       "    </tr>\n",
       "  </thead>\n",
       "  <tbody>\n",
       "    <tr>\n",
       "      <th>129</th>\n",
       "      <td>Compassion towards those in need during the h...</td>\n",
       "      <td>2015-12-22 14:20:00</td>\n",
       "      <td>HolidayHelper</td>\n",
       "      <td>Facebook</td>\n",
       "      <td>#Compassion #HolidaySupport</td>\n",
       "      <td>18</td>\n",
       "      <td>35</td>\n",
       "      <td>USA</td>\n",
       "      <td>2015</td>\n",
       "      <td>12</td>\n",
       "      <td>22</td>\n",
       "      <td>14</td>\n",
       "      <td>Compassion</td>\n",
       "    </tr>\n",
       "    <tr>\n",
       "      <th>107</th>\n",
       "      <td>Pride in accomplishing personal and professio...</td>\n",
       "      <td>2023-03-03 14:30:00</td>\n",
       "      <td>GoalAchiever</td>\n",
       "      <td>Instagram</td>\n",
       "      <td>#Pride #Accomplishments</td>\n",
       "      <td>12</td>\n",
       "      <td>25</td>\n",
       "      <td>Canada</td>\n",
       "      <td>2023</td>\n",
       "      <td>3</td>\n",
       "      <td>3</td>\n",
       "      <td>14</td>\n",
       "      <td>Pride</td>\n",
       "    </tr>\n",
       "  </tbody>\n",
       "</table>\n",
       "</div>"
      ],
      "text/plain": [
       "                                                  Text           Timestamp  \\\n",
       "129   Compassion towards those in need during the h... 2015-12-22 14:20:00   \n",
       "107   Pride in accomplishing personal and professio... 2023-03-03 14:30:00   \n",
       "\n",
       "                  User     Platform  \\\n",
       "129   HolidayHelper       Facebook    \n",
       "107   GoalAchiever       Instagram    \n",
       "\n",
       "                                            Hashtags  Retweets  Likes  \\\n",
       "129   #Compassion #HolidaySupport                           18     35   \n",
       "107     #Pride #Accomplishments                             12     25   \n",
       "\n",
       "        Country  Year  Month  Day  Hour        Sentiment  \n",
       "129   USA        2015     12   22    14   Compassion      \n",
       "107     Canada   2023      3    3    14    Pride          "
      ]
     },
     "execution_count": 116,
     "metadata": {},
     "output_type": "execute_result"
    }
   ],
   "source": [
    "df.sample(2)"
   ]
  },
  {
   "cell_type": "code",
   "execution_count": 117,
   "metadata": {},
   "outputs": [
    {
     "data": {
      "text/plain": [
       "Text         0\n",
       "Timestamp    0\n",
       "User         0\n",
       "Platform     0\n",
       "Hashtags     0\n",
       "Retweets     0\n",
       "Likes        0\n",
       "Country      0\n",
       "Year         0\n",
       "Month        0\n",
       "Day          0\n",
       "Hour         0\n",
       "Sentiment    0\n",
       "dtype: int64"
      ]
     },
     "execution_count": 117,
     "metadata": {},
     "output_type": "execute_result"
    }
   ],
   "source": [
    "df.isnull().sum()"
   ]
  },
  {
   "cell_type": "code",
   "execution_count": 118,
   "metadata": {},
   "outputs": [
    {
     "name": "stdout",
     "output_type": "stream",
     "text": [
      "<class 'pandas.core.frame.DataFrame'>\n",
      "RangeIndex: 732 entries, 0 to 731\n",
      "Data columns (total 13 columns):\n",
      " #   Column     Non-Null Count  Dtype         \n",
      "---  ------     --------------  -----         \n",
      " 0   Text       732 non-null    object        \n",
      " 1   Timestamp  732 non-null    datetime64[ns]\n",
      " 2   User       732 non-null    object        \n",
      " 3   Platform   732 non-null    object        \n",
      " 4   Hashtags   732 non-null    object        \n",
      " 5   Retweets   732 non-null    int64         \n",
      " 6   Likes      732 non-null    int64         \n",
      " 7   Country    732 non-null    object        \n",
      " 8   Year       732 non-null    int64         \n",
      " 9   Month      732 non-null    int64         \n",
      " 10  Day        732 non-null    int64         \n",
      " 11  Hour       732 non-null    int64         \n",
      " 12  Sentiment  732 non-null    object        \n",
      "dtypes: datetime64[ns](1), int64(6), object(6)\n",
      "memory usage: 74.5+ KB\n"
     ]
    }
   ],
   "source": [
    "df.info()"
   ]
  },
  {
   "cell_type": "code",
   "execution_count": 119,
   "metadata": {},
   "outputs": [
    {
     "data": {
      "text/html": [
       "<div>\n",
       "<style scoped>\n",
       "    .dataframe tbody tr th:only-of-type {\n",
       "        vertical-align: middle;\n",
       "    }\n",
       "\n",
       "    .dataframe tbody tr th {\n",
       "        vertical-align: top;\n",
       "    }\n",
       "\n",
       "    .dataframe thead th {\n",
       "        text-align: right;\n",
       "    }\n",
       "</style>\n",
       "<table border=\"1\" class=\"dataframe\">\n",
       "  <thead>\n",
       "    <tr style=\"text-align: right;\">\n",
       "      <th></th>\n",
       "      <th>Text</th>\n",
       "      <th>Timestamp</th>\n",
       "      <th>User</th>\n",
       "      <th>Platform</th>\n",
       "      <th>Hashtags</th>\n",
       "      <th>Retweets</th>\n",
       "      <th>Likes</th>\n",
       "      <th>Country</th>\n",
       "      <th>Year</th>\n",
       "      <th>Month</th>\n",
       "      <th>Day</th>\n",
       "      <th>Hour</th>\n",
       "      <th>Sentiment</th>\n",
       "    </tr>\n",
       "  </thead>\n",
       "  <tbody>\n",
       "    <tr>\n",
       "      <th>0</th>\n",
       "      <td>Enjoying a beautiful day at the park!        ...</td>\n",
       "      <td>2023-01-15 12:30:00</td>\n",
       "      <td>User</td>\n",
       "      <td>Twitter</td>\n",
       "      <td>#Nature #Park</td>\n",
       "      <td>15</td>\n",
       "      <td>30</td>\n",
       "      <td>USA</td>\n",
       "      <td>2023</td>\n",
       "      <td>1</td>\n",
       "      <td>15</td>\n",
       "      <td>12</td>\n",
       "      <td>Positive</td>\n",
       "    </tr>\n",
       "    <tr>\n",
       "      <th>1</th>\n",
       "      <td>Traffic was terrible this morning.           ...</td>\n",
       "      <td>2023-01-15 08:45:00</td>\n",
       "      <td>CommuterX</td>\n",
       "      <td>Twitter</td>\n",
       "      <td>#Traffic #Morning</td>\n",
       "      <td>5</td>\n",
       "      <td>10</td>\n",
       "      <td>Canada</td>\n",
       "      <td>2023</td>\n",
       "      <td>1</td>\n",
       "      <td>15</td>\n",
       "      <td>8</td>\n",
       "      <td>Negative</td>\n",
       "    </tr>\n",
       "    <tr>\n",
       "      <th>2</th>\n",
       "      <td>Just finished an amazing workout! 💪          ...</td>\n",
       "      <td>2023-01-15 15:45:00</td>\n",
       "      <td>FitnessFan</td>\n",
       "      <td>Instagram</td>\n",
       "      <td>#Fitness #Workout</td>\n",
       "      <td>20</td>\n",
       "      <td>40</td>\n",
       "      <td>USA</td>\n",
       "      <td>2023</td>\n",
       "      <td>1</td>\n",
       "      <td>15</td>\n",
       "      <td>15</td>\n",
       "      <td>Positive</td>\n",
       "    </tr>\n",
       "    <tr>\n",
       "      <th>3</th>\n",
       "      <td>Excited about the upcoming weekend getaway!  ...</td>\n",
       "      <td>2023-01-15 18:20:00</td>\n",
       "      <td>AdventureX</td>\n",
       "      <td>Facebook</td>\n",
       "      <td>#Travel #Adventure</td>\n",
       "      <td>8</td>\n",
       "      <td>15</td>\n",
       "      <td>UK</td>\n",
       "      <td>2023</td>\n",
       "      <td>1</td>\n",
       "      <td>15</td>\n",
       "      <td>18</td>\n",
       "      <td>Positive</td>\n",
       "    </tr>\n",
       "    <tr>\n",
       "      <th>4</th>\n",
       "      <td>Trying out a new recipe for dinner tonight.  ...</td>\n",
       "      <td>2023-01-15 19:55:00</td>\n",
       "      <td>ChefCook</td>\n",
       "      <td>Instagram</td>\n",
       "      <td>#Cooking #Food</td>\n",
       "      <td>12</td>\n",
       "      <td>25</td>\n",
       "      <td>Australia</td>\n",
       "      <td>2023</td>\n",
       "      <td>1</td>\n",
       "      <td>15</td>\n",
       "      <td>19</td>\n",
       "      <td>Neutral</td>\n",
       "    </tr>\n",
       "  </tbody>\n",
       "</table>\n",
       "</div>"
      ],
      "text/plain": [
       "                                                Text           Timestamp  \\\n",
       "0   Enjoying a beautiful day at the park!        ... 2023-01-15 12:30:00   \n",
       "1   Traffic was terrible this morning.           ... 2023-01-15 08:45:00   \n",
       "2   Just finished an amazing workout! 💪          ... 2023-01-15 15:45:00   \n",
       "3   Excited about the upcoming weekend getaway!  ... 2023-01-15 18:20:00   \n",
       "4   Trying out a new recipe for dinner tonight.  ... 2023-01-15 19:55:00   \n",
       "\n",
       "             User     Platform                                    Hashtags  \\\n",
       "0           User     Twitter     #Nature #Park                               \n",
       "1   CommuterX        Twitter     #Traffic #Morning                           \n",
       "2   FitnessFan      Instagram    #Fitness #Workout                           \n",
       "3   AdventureX       Facebook    #Travel #Adventure                          \n",
       "4   ChefCook        Instagram    #Cooking #Food                              \n",
       "\n",
       "   Retweets  Likes       Country  Year  Month  Day  Hour    Sentiment  \n",
       "0        15     30     USA        2023      1   15    12   Positive    \n",
       "1         5     10     Canada     2023      1   15     8   Negative    \n",
       "2        20     40   USA          2023      1   15    15   Positive    \n",
       "3         8     15     UK         2023      1   15    18   Positive    \n",
       "4        12     25    Australia   2023      1   15    19   Neutral     "
      ]
     },
     "execution_count": 119,
     "metadata": {},
     "output_type": "execute_result"
    }
   ],
   "source": [
    "df.head()"
   ]
  },
  {
   "cell_type": "code",
   "execution_count": 120,
   "metadata": {},
   "outputs": [],
   "source": [
    "df = df[[\"Platform\", \"Hashtags\", \"Retweets\", \"Likes\", \"Country\", \"Year\", \"Month\",\"Day\", \"Hour\", \"Sentiment\"]]"
   ]
  },
  {
   "cell_type": "code",
   "execution_count": 121,
   "metadata": {},
   "outputs": [],
   "source": [
    "from sklearn.feature_selection import SelectKBest, chi2,f_classif\n",
    "from sklearn.preprocessing import LabelEncoder, OneHotEncoder, MinMaxScaler, StandardScaler\n",
    "from sklearn.model_selection import GridSearchCV, StratifiedKFold, cross_val_score\n",
    "\n",
    "#import dimensionality reduction libraries\n",
    "from sklearn.decomposition import PCA\n",
    "\n",
    "#import algorithm libraries\n",
    "from sklearn.linear_model import LogisticRegression, SGDClassifier\n",
    "from sklearn.svm import SVC\n",
    "from sklearn.tree import DecisionTreeClassifier\n",
    "from sklearn.ensemble import RandomForestClassifier\n",
    "from sklearn.naive_bayes import GaussianNB\n",
    "from sklearn.neighbors import KNeighborsClassifier"
   ]
  },
  {
   "cell_type": "code",
   "execution_count": 122,
   "metadata": {},
   "outputs": [
    {
     "name": "stdout",
     "output_type": "stream",
     "text": [
      "    Feature         Score\n",
      "1  Hashtags  59508.259508\n",
      "4   Country   7677.746856\n",
      "3     Likes   2398.226707\n",
      "7       Day   1502.066149\n",
      "2  Retweets   1207.688861\n",
      "6     Month    977.690611\n",
      "8      Hour    521.744363\n",
      "0  Platform    278.040389\n",
      "5      Year      2.184326\n"
     ]
    }
   ],
   "source": [
    "from sklearn.feature_selection import SelectKBest\n",
    "from sklearn.feature_selection import chi2\n",
    "from sklearn.preprocessing import LabelEncoder\n",
    "\n",
    "s = (df.dtypes == 'object')\n",
    "object_cols = list(s[s].index)\n",
    "\n",
    "data_copy = df.copy()\n",
    "le = LabelEncoder()\n",
    "for col in object_cols:\n",
    "    data_copy[col] = le.fit_transform(data_copy[col].astype(str))\n",
    "\n",
    "x = data_copy.drop(\"Sentiment\", axis=1)\n",
    "Y = data_copy[[\"Sentiment\"]]\n",
    "\n",
    "bestfeatures = SelectKBest(score_func=chi2, k=9)\n",
    "dfit = bestfeatures.fit(x, Y)\n",
    "\n",
    "df_scores = pd.DataFrame(dfit.scores_, columns=['Score'])\n",
    "df_cols = pd.DataFrame(x.columns, columns=['Feature'])\n",
    "\n",
    "feature_importance = pd.concat([df_cols, df_scores], axis=1)\n",
    "\n",
    "feature_importance.columns = ['Feature', 'Score']\n",
    "\n",
    "print(feature_importance.nlargest(9, 'Score'))"
   ]
  },
  {
   "cell_type": "code",
   "execution_count": 123,
   "metadata": {},
   "outputs": [
    {
     "name": "stdout",
     "output_type": "stream",
     "text": [
      "    Feature     Score\n",
      "5      Year  5.419298\n",
      "2  Retweets  4.041203\n",
      "3     Likes  3.969767\n",
      "1  Hashtags  3.963935\n",
      "6     Month  3.866964\n",
      "8      Hour  3.090337\n",
      "7       Day  1.298080\n",
      "4   Country  1.290564\n",
      "0  Platform  1.129567\n"
     ]
    },
    {
     "name": "stderr",
     "output_type": "stream",
     "text": [
      "c:\\Anaconda\\Lib\\site-packages\\sklearn\\utils\\validation.py:1143: DataConversionWarning: A column-vector y was passed when a 1d array was expected. Please change the shape of y to (n_samples, ), for example using ravel().\n",
      "  y = column_or_1d(y, warn=True)\n"
     ]
    }
   ],
   "source": [
    "#apply SelectKBest class to extract top 10 best features\n",
    "bestfeatures = SelectKBest(score_func=f_classif, k=9)\n",
    "dfit = bestfeatures.fit(x,Y)\n",
    "df_scores = pd.DataFrame(dfit.scores_, columns=['Score'])\n",
    "df_cols = pd.DataFrame(x.columns, columns=['Feature'])\n",
    "\n",
    "# now we will concatenate the 2 dataframes\n",
    "feature_importance = pd.concat([df_cols, df_scores],axis=1)\n",
    "feature_importance.columns = ['Feature','Score']\n",
    "print(feature_importance.nlargest(9,'Score'))"
   ]
  },
  {
   "cell_type": "code",
   "execution_count": 124,
   "metadata": {},
   "outputs": [
    {
     "data": {
      "text/html": [
       "<style>#sk-container-id-3 {color: black;background-color: white;}#sk-container-id-3 pre{padding: 0;}#sk-container-id-3 div.sk-toggleable {background-color: white;}#sk-container-id-3 label.sk-toggleable__label {cursor: pointer;display: block;width: 100%;margin-bottom: 0;padding: 0.3em;box-sizing: border-box;text-align: center;}#sk-container-id-3 label.sk-toggleable__label-arrow:before {content: \"▸\";float: left;margin-right: 0.25em;color: #696969;}#sk-container-id-3 label.sk-toggleable__label-arrow:hover:before {color: black;}#sk-container-id-3 div.sk-estimator:hover label.sk-toggleable__label-arrow:before {color: black;}#sk-container-id-3 div.sk-toggleable__content {max-height: 0;max-width: 0;overflow: hidden;text-align: left;background-color: #f0f8ff;}#sk-container-id-3 div.sk-toggleable__content pre {margin: 0.2em;color: black;border-radius: 0.25em;background-color: #f0f8ff;}#sk-container-id-3 input.sk-toggleable__control:checked~div.sk-toggleable__content {max-height: 200px;max-width: 100%;overflow: auto;}#sk-container-id-3 input.sk-toggleable__control:checked~label.sk-toggleable__label-arrow:before {content: \"▾\";}#sk-container-id-3 div.sk-estimator input.sk-toggleable__control:checked~label.sk-toggleable__label {background-color: #d4ebff;}#sk-container-id-3 div.sk-label input.sk-toggleable__control:checked~label.sk-toggleable__label {background-color: #d4ebff;}#sk-container-id-3 input.sk-hidden--visually {border: 0;clip: rect(1px 1px 1px 1px);clip: rect(1px, 1px, 1px, 1px);height: 1px;margin: -1px;overflow: hidden;padding: 0;position: absolute;width: 1px;}#sk-container-id-3 div.sk-estimator {font-family: monospace;background-color: #f0f8ff;border: 1px dotted black;border-radius: 0.25em;box-sizing: border-box;margin-bottom: 0.5em;}#sk-container-id-3 div.sk-estimator:hover {background-color: #d4ebff;}#sk-container-id-3 div.sk-parallel-item::after {content: \"\";width: 100%;border-bottom: 1px solid gray;flex-grow: 1;}#sk-container-id-3 div.sk-label:hover label.sk-toggleable__label {background-color: #d4ebff;}#sk-container-id-3 div.sk-serial::before {content: \"\";position: absolute;border-left: 1px solid gray;box-sizing: border-box;top: 0;bottom: 0;left: 50%;z-index: 0;}#sk-container-id-3 div.sk-serial {display: flex;flex-direction: column;align-items: center;background-color: white;padding-right: 0.2em;padding-left: 0.2em;position: relative;}#sk-container-id-3 div.sk-item {position: relative;z-index: 1;}#sk-container-id-3 div.sk-parallel {display: flex;align-items: stretch;justify-content: center;background-color: white;position: relative;}#sk-container-id-3 div.sk-item::before, #sk-container-id-3 div.sk-parallel-item::before {content: \"\";position: absolute;border-left: 1px solid gray;box-sizing: border-box;top: 0;bottom: 0;left: 50%;z-index: -1;}#sk-container-id-3 div.sk-parallel-item {display: flex;flex-direction: column;z-index: 1;position: relative;background-color: white;}#sk-container-id-3 div.sk-parallel-item:first-child::after {align-self: flex-end;width: 50%;}#sk-container-id-3 div.sk-parallel-item:last-child::after {align-self: flex-start;width: 50%;}#sk-container-id-3 div.sk-parallel-item:only-child::after {width: 0;}#sk-container-id-3 div.sk-dashed-wrapped {border: 1px dashed gray;margin: 0 0.4em 0.5em 0.4em;box-sizing: border-box;padding-bottom: 0.4em;background-color: white;}#sk-container-id-3 div.sk-label label {font-family: monospace;font-weight: bold;display: inline-block;line-height: 1.2em;}#sk-container-id-3 div.sk-label-container {text-align: center;}#sk-container-id-3 div.sk-container {/* jupyter's `normalize.less` sets `[hidden] { display: none; }` but bootstrap.min.css set `[hidden] { display: none !important; }` so we also need the `!important` here to be able to override the default hidden behavior on the sphinx rendered scikit-learn.org. See: https://github.com/scikit-learn/scikit-learn/issues/21755 */display: inline-block !important;position: relative;}#sk-container-id-3 div.sk-text-repr-fallback {display: none;}</style><div id=\"sk-container-id-3\" class=\"sk-top-container\"><div class=\"sk-text-repr-fallback\"><pre>MinMaxScaler()</pre><b>In a Jupyter environment, please rerun this cell to show the HTML representation or trust the notebook. <br />On GitHub, the HTML representation is unable to render, please try loading this page with nbviewer.org.</b></div><div class=\"sk-container\" hidden><div class=\"sk-item\"><div class=\"sk-estimator sk-toggleable\"><input class=\"sk-toggleable__control sk-hidden--visually\" id=\"sk-estimator-id-3\" type=\"checkbox\" checked><label for=\"sk-estimator-id-3\" class=\"sk-toggleable__label sk-toggleable__label-arrow\">MinMaxScaler</label><div class=\"sk-toggleable__content\"><pre>MinMaxScaler()</pre></div></div></div></div></div>"
      ],
      "text/plain": [
       "MinMaxScaler()"
      ]
     },
     "execution_count": 124,
     "metadata": {},
     "output_type": "execute_result"
    }
   ],
   "source": [
    "from sklearn.preprocessing import MinMaxScaler\n",
    "minmax = MinMaxScaler()\n",
    "minmax.fit(x)"
   ]
  },
  {
   "cell_type": "code",
   "execution_count": 125,
   "metadata": {},
   "outputs": [],
   "source": [
    "x = sm.add_constant(x)\n",
    "model = sm.OLS(Y, x).fit()"
   ]
  },
  {
   "cell_type": "code",
   "execution_count": 126,
   "metadata": {},
   "outputs": [
    {
     "name": "stdout",
     "output_type": "stream",
     "text": [
      "                            OLS Regression Results                            \n",
      "==============================================================================\n",
      "Dep. Variable:              Sentiment   R-squared:                       0.608\n",
      "Model:                            OLS   Adj. R-squared:                  0.603\n",
      "Method:                 Least Squares   F-statistic:                     124.3\n",
      "Date:                Thu, 11 Jan 2024   Prob (F-statistic):          2.80e-140\n",
      "Time:                        21:58:47   Log-Likelihood:                -3843.7\n",
      "No. Observations:                 732   AIC:                             7707.\n",
      "Df Residuals:                     722   BIC:                             7753.\n",
      "Df Model:                           9                                         \n",
      "Covariance Type:            nonrobust                                         \n",
      "==============================================================================\n",
      "                 coef    std err          t      P>|t|      [0.025      0.975]\n",
      "------------------------------------------------------------------------------\n",
      "const       -346.6172   1322.280     -0.262      0.793   -2942.590    2249.356\n",
      "Platform      -1.1505      1.673     -0.688      0.492      -4.435       2.134\n",
      "Hashtags       0.2855      0.009     32.662      0.000       0.268       0.303\n",
      "Retweets     -10.1434      4.506     -2.251      0.025     -18.991      -1.296\n",
      "Likes          4.9924      2.257      2.212      0.027       0.562       9.423\n",
      "Country        0.0489      0.045      1.075      0.283      -0.040       0.138\n",
      "Year           0.1919      0.654      0.294      0.769      -1.091       1.475\n",
      "Month         -1.4769      0.548     -2.697      0.007      -2.552      -0.402\n",
      "Day            0.0363      0.206      0.176      0.860      -0.369       0.441\n",
      "Hour           0.5442      0.438      1.242      0.215      -0.316       1.404\n",
      "==============================================================================\n",
      "Omnibus:                       78.816   Durbin-Watson:                   1.676\n",
      "Prob(Omnibus):                  0.000   Jarque-Bera (JB):              251.970\n",
      "Skew:                           0.498   Prob(JB):                     1.93e-55\n",
      "Kurtosis:                       5.697   Cond. No.                     1.58e+06\n",
      "==============================================================================\n",
      "\n",
      "Notes:\n",
      "[1] Standard Errors assume that the covariance matrix of the errors is correctly specified.\n",
      "[2] The condition number is large, 1.58e+06. This might indicate that there are\n",
      "strong multicollinearity or other numerical problems.\n"
     ]
    }
   ],
   "source": [
    "print(model.summary())"
   ]
  },
  {
   "cell_type": "code",
   "execution_count": 127,
   "metadata": {},
   "outputs": [
    {
     "name": "stdout",
     "output_type": "stream",
     "text": [
      "Significant Features:\n",
      "Index(['Hashtags', 'Retweets', 'Likes', 'Month'], dtype='object')\n"
     ]
    }
   ],
   "source": [
    "p_values = model.pvalues\n",
    "\n",
    "significance_threshold = 0.05\n",
    "\n",
    "# Filter out non-significant features\n",
    "significant_features = p_values[p_values < significance_threshold].index\n",
    "\n",
    "print(\"Significant Features:\")\n",
    "print(significant_features)"
   ]
  },
  {
   "cell_type": "code",
   "execution_count": 128,
   "metadata": {},
   "outputs": [
    {
     "name": "stdout",
     "output_type": "stream",
     "text": [
      "                            OLS Regression Results                            \n",
      "==============================================================================\n",
      "Dep. Variable:              Sentiment   R-squared:                       0.606\n",
      "Model:                            OLS   Adj. R-squared:                  0.604\n",
      "Method:                 Least Squares   F-statistic:                     279.2\n",
      "Date:                Thu, 11 Jan 2024   Prob (F-statistic):          2.72e-145\n",
      "Time:                        21:58:47   Log-Likelihood:                -3845.5\n",
      "No. Observations:                 732   AIC:                             7701.\n",
      "Df Residuals:                     727   BIC:                             7724.\n",
      "Df Model:                           4                                         \n",
      "Covariance Type:            nonrobust                                         \n",
      "==============================================================================\n",
      "                 coef    std err          t      P>|t|      [0.025      0.975]\n",
      "------------------------------------------------------------------------------\n",
      "const         49.1842      6.711      7.329      0.000      36.010      62.359\n",
      "Hashtags       0.2873      0.009     33.349      0.000       0.270       0.304\n",
      "Retweets      -9.7793      4.462     -2.192      0.029     -18.540      -1.019\n",
      "Likes          4.8526      2.235      2.171      0.030       0.465       9.240\n",
      "Month         -1.4611      0.508     -2.873      0.004      -2.459      -0.463\n",
      "==============================================================================\n",
      "Omnibus:                       88.775   Durbin-Watson:                   1.685\n",
      "Prob(Omnibus):                  0.000   Jarque-Bera (JB):              284.457\n",
      "Skew:                           0.568   Prob(JB):                     1.70e-62\n",
      "Kurtosis:                       5.835   Cond. No.                     1.59e+03\n",
      "==============================================================================\n",
      "\n",
      "Notes:\n",
      "[1] Standard Errors assume that the covariance matrix of the errors is correctly specified.\n",
      "[2] The condition number is large, 1.59e+03. This might indicate that there are\n",
      "strong multicollinearity or other numerical problems.\n"
     ]
    }
   ],
   "source": [
    "import statsmodels.api as sm\n",
    "\n",
    "selected_features = ['Hashtags', 'Retweets', 'Likes', 'Month']\n",
    "X_selected = x[selected_features]\n",
    "\n",
    "# Add a constant term to the independent variables matrix\n",
    "X_selected = sm.add_constant(X_selected)\n",
    "\n",
    "model_selected = sm.OLS(Y, X_selected).fit()\n",
    "\n",
    "print(model_selected.summary())"
   ]
  },
  {
   "cell_type": "markdown",
   "metadata": {},
   "source": [
    "# Now we will bw checking the OLS assumption to know that whether we can use the regression model or not."
   ]
  },
  {
   "cell_type": "code",
   "execution_count": 129,
   "metadata": {},
   "outputs": [],
   "source": [
    "import scipy.stats as stats\n",
    "import statsmodels.api as sm\n",
    "import statsmodels.tsa.stattools as st\n",
    "import statistics"
   ]
  },
  {
   "cell_type": "markdown",
   "metadata": {},
   "source": [
    "***Jarque Bera Test***"
   ]
  },
  {
   "cell_type": "markdown",
   "metadata": {},
   "source": [
    "* Null Hypothesis: Data is normally distributed.\n",
    "* Alternate Hypothesus: Data is not normally distributed."
   ]
  },
  {
   "cell_type": "code",
   "execution_count": 130,
   "metadata": {},
   "outputs": [
    {
     "data": {
      "text/plain": [
       "SignificanceResult(statistic=6360.796177193471, pvalue=0.0)"
      ]
     },
     "execution_count": 130,
     "metadata": {},
     "output_type": "execute_result"
    }
   ],
   "source": [
    "stats.jarque_bera(X_selected)"
   ]
  },
  {
   "cell_type": "code",
   "execution_count": 131,
   "metadata": {},
   "outputs": [
    {
     "data": {
      "text/plain": [
       "SignificanceResult(statistic=284.4568077511669, pvalue=1.7021155014622448e-62)"
      ]
     },
     "execution_count": 131,
     "metadata": {},
     "output_type": "execute_result"
    }
   ],
   "source": [
    "stats.jarque_bera(model_selected.resid)"
   ]
  },
  {
   "cell_type": "markdown",
   "metadata": {},
   "source": [
    "***From the above code, we can say that the residuals are not normal in our case. Now we are going to do some more test on the residuals***"
   ]
  },
  {
   "cell_type": "markdown",
   "metadata": {},
   "source": [
    "***Augmented Dickey Fuller***"
   ]
  },
  {
   "cell_type": "markdown",
   "metadata": {},
   "source": [
    "* Null Hypothesis: There is unit root.\n",
    "* Alternate Hypothesis: There is no unit root."
   ]
  },
  {
   "cell_type": "code",
   "execution_count": 132,
   "metadata": {},
   "outputs": [
    {
     "data": {
      "text/plain": [
       "(-3.7604623553685648,\n",
       " 0.0033387534107711288,\n",
       " 19,\n",
       " 712,\n",
       " {'1%': -3.4395677423210493,\n",
       "  '5%': -2.8656078730509784,\n",
       "  '10%': -2.5689362152032573},\n",
       " 7386.04601665344)"
      ]
     },
     "execution_count": 132,
     "metadata": {},
     "output_type": "execute_result"
    }
   ],
   "source": [
    "st.adfuller(model_selected.resid)"
   ]
  },
  {
   "cell_type": "markdown",
   "metadata": {},
   "source": [
    "***From the above adfuller test, we get p value < 0.05, so we reject the null hypothesis and accept the alternate hypothesis saying that the residuals does not have unit roots and hence our data is stationary and we can say that the data is normal***"
   ]
  },
  {
   "cell_type": "markdown",
   "metadata": {},
   "source": [
    "***Correlogram Test***"
   ]
  },
  {
   "cell_type": "markdown",
   "metadata": {},
   "source": [
    "* Null hypothesis: Data is not auto-correlated.\n",
    "* Alternate hypothesis: Data is auto-correlated."
   ]
  },
  {
   "cell_type": "code",
   "execution_count": 133,
   "metadata": {},
   "outputs": [
    {
     "data": {
      "image/png": "[encoded data removed]",
      "text/plain": [
       "<Figure size 1500x500 with 1 Axes>"
      ]
     },
     "metadata": {},
     "output_type": "display_data"
    },
    {
     "name": "stdout",
     "output_type": "stream",
     "text": [
      "Ljung-Box Q-statistic: [  17.68035613   25.68710505   32.50633849   44.53835411   45.61355096\n",
      "   57.62789105   80.83465359   88.50414068  100.17331073  116.50566236\n",
      "  119.01212666  122.19743545  122.22500484  122.65485606  123.2472129\n",
      "  125.61995077  129.51576917  133.90526814  150.02565366  159.97440888\n",
      "  161.3963728   164.34238366  166.60433997  168.1532673   169.53569666\n",
      "  170.18943431  174.16488295  174.98156974  174.98157841  178.58409669\n",
      "  178.93461801  178.99646808  182.417156    183.81790935  186.41920724\n",
      "  188.76322777  189.00239448  190.70183476  190.80394376  191.62699882\n",
      "  193.0646589   194.32381778  195.6292324   195.63468995  196.80899419\n",
      "  197.01936339  200.67439649  200.94993092  201.25354928  203.77798899\n",
      "  207.94012005  208.78592728  209.43556462  209.56403377  209.59308306\n",
      "  209.60321883  211.58740705  212.06096555  212.28464631  212.33390127\n",
      "  213.07447955  214.00636755  215.90649257  215.99366174  219.46640052\n",
      "  222.04586519  223.88066206  229.91883154  231.33152791  232.48449332\n",
      "  232.6128192   235.24444497  235.37449231  236.354608    237.53120854\n",
      "  240.27038506  240.51604393  241.08642891  241.12791512  241.53220729\n",
      "  241.55618386  242.91012378  243.35735432  246.0603561   248.15778367\n",
      "  248.53293645  249.0115234   249.29550948  249.73065154  249.7826648\n",
      "  251.54389362  253.09643721  254.99545985  259.81820602  259.93574697\n",
      "  260.48349278  260.83749287  260.97466909  261.15849783  261.43278229\n",
      "  262.51553904  263.83190537  265.410709    266.89723408  268.29547898\n",
      "  268.8777305   268.92668882  268.92911494  269.93829005  270.1401459\n",
      "  270.30838386  270.32411314  272.25878535  272.26669991  273.90113952\n",
      "  274.28892778  275.19971559  275.27167055  275.96258116  276.02455402\n",
      "  276.27086844  276.39479228  277.06360637  277.53249498  279.61491839\n",
      "  281.16228596  281.49086202  281.49195729  281.60067937  282.49510395\n",
      "  282.49860539  284.01571163  284.73200633  284.84042504  285.03338392\n",
      "  285.04196872  289.24832524  289.95714324  290.39900231  290.57346878\n",
      "  290.86855522  291.04081006  293.18727051  293.47657725  293.48289934\n",
      "  293.73923889  293.75020433  293.78571745  294.03245085  294.34106374\n",
      "  294.44494142  294.62022953  294.67753643  295.34823866  295.64176256\n",
      "  295.73255616  296.16412483  296.26340702  296.32866665  296.89614287\n",
      "  296.956595    296.97504376  297.079335    297.24818621  297.45033553\n",
      "  297.92105633  297.92323167  298.02625757  298.24777607  298.29170301\n",
      "  300.11704817  300.1444206   300.14563582  300.54586178  300.61716585\n",
      "  301.20062994  301.22108911  301.51482301  302.51245786  306.43112099\n",
      "  306.48203694  306.70888775  306.83578163  308.25037014  308.62697252\n",
      "  308.89851782  308.89908813  310.27095017  311.58178223  312.11990698\n",
      "  312.16464563  312.24447954  312.24922039  313.24104081  314.03756637\n",
      "  314.07111431  314.21532281  317.68252829  318.0516005   318.38083691\n",
      "  318.59433618  318.60144261  318.71577056  318.85552409  318.86514065\n",
      "  318.97488246  319.11863101  319.62107808  319.75240455  319.8597078\n",
      "  320.12271522  320.19692664  320.29963445  320.67487712  320.67512571\n",
      "  320.69178641  320.76890448  320.82168203  321.99216167  322.11651718\n",
      "  322.16145892  322.24794819  322.43536915  322.54428428  322.71691406\n",
      "  323.17715597  323.54931853  323.81547594  325.78547749  325.8039749\n",
      "  325.8277672   325.94785432  326.38181466  327.52246856  327.87838431\n",
      "  327.95938714  327.98584156  328.14874519  328.33391907  328.76655913\n",
      "  329.44947848  329.99407922  330.06487233  330.07489448  330.29971438\n",
      "  330.31773382  330.64547038  330.95331118  331.09051125  331.15345399\n",
      "  331.15438484  331.23196278  331.23335335  331.5202407   331.52344364\n",
      "  331.58817721  331.61832734  332.03828104  332.19976153  332.2966171\n",
      "  332.67746865  332.7502931   333.42988658  334.73245272  334.83509921\n",
      "  335.25929909  336.03957008  336.10325838  336.85074197  339.19072082\n",
      "  339.21556875  339.2209633   339.45250281  339.85818418  339.86134321\n",
      "  339.96013814  340.41222599  340.51143126  340.6002255   340.62743393\n",
      "  341.27125058  342.62346191  342.76794511  342.80445199  343.10609462\n",
      "  343.10641763  343.41787705  343.96192157  344.33150904  344.38790853\n",
      "  344.49775692  345.73290809  345.77955245  345.79329285  346.3792234\n",
      "  346.76382867  346.91555543  347.31148743  347.31300272  347.37168376\n",
      "  347.6952194   347.87741131  347.88124102  347.90538706  347.91188603\n",
      "  348.39506793  348.45747344  348.49156204  348.58414164  348.6383261\n",
      "  348.65124427  349.09997269  349.10713038  349.62770869  349.64758705\n",
      "  349.8948556   350.09387488  351.36390036  351.76513233  352.1894542\n",
      "  352.91841999  353.61397105  353.63489278  353.63680367  353.66580187\n",
      "  353.77437671  353.81120672  354.19950354  354.28980025  354.93217449\n",
      "  354.99856512  355.74158867  358.32870507  358.60640332  359.2965501\n",
      "  359.55117638  360.29063413  360.31779259  360.89607791  360.97208781\n",
      "  362.47836864  362.93636697  362.94801674  363.19412468  363.19915733\n",
      "  363.22503492  363.54524956  364.30867604  364.31853217  364.79297379\n",
      "  364.90131525  367.59518774  369.25792428  370.09264135  370.37602127\n",
      "  371.21793158  371.86313527  371.91460012  372.14197085  374.06611273\n",
      "  374.406844    374.45359364  374.53328703  374.79938524  374.97033539\n",
      "  376.89367485  377.70090458  377.70167904  378.25655126  378.27005423\n",
      "  379.22402009  379.35926864  380.24868208  380.2487741   380.47136731\n",
      "  380.47326218  380.76038382  381.01670605  381.19500356  382.60487388\n",
      "  382.60750449  383.22646179  383.72880747  383.87150794  383.89644792\n",
      "  383.9002992   383.93917594  384.55300592  384.57956851  385.09894674\n",
      "  385.15849599  385.17296795  386.0556474   386.28618995  386.28902083\n",
      "  386.33644144  386.43249248  388.36514677  388.86069704  389.56224128\n",
      "  389.87265153  389.88316046  391.15039694  392.18377336  392.40488831\n",
      "  392.4212398   392.42393232  392.86313945  392.86388706  392.97722989\n",
      "  393.5586868   393.55893444  393.98887893  394.52746917  394.79397765\n",
      "  394.80012179  396.20823139  396.20895191  396.39607455  400.26280637\n",
      "  400.28216964  400.49558685  400.97747538  401.14247663  401.31903327\n",
      "  401.66031312  401.76898948  402.51017138  402.66262986  402.66755027\n",
      "  402.9384191   402.97794211  402.99714205  403.12327192  403.13223383\n",
      "  404.12840196  404.47318355  404.63146603  404.9941791   404.99439303\n",
      "  404.99548393  405.26676319  407.39490099  407.69089483  407.73954004\n",
      "  408.60985378  409.50189087  409.63359674  410.50204358  410.65451226\n",
      "  411.15260348  411.26639931  412.46745036  412.5040102   412.60028144\n",
      "  412.73202755  412.75868407  412.83690681  412.98843264  412.99794042\n",
      "  413.63725005  414.12564106  414.83987074  415.31417717  415.45500869\n",
      "  417.05618404  418.24392568  420.15802702  420.41047895  420.41133399\n",
      "  422.54459874  423.74936192  424.79439477  426.00438536  429.4620566\n",
      "  429.62977502  429.95987548  430.13913757  430.17366942  430.19489265\n",
      "  430.48185671  430.81007253  431.85598404  435.57897892  435.59000084\n",
      "  436.01863983  436.71274426  437.1832263   437.25757778  442.27196347\n",
      "  442.35099914  442.98515186  448.04467566  448.38015887  448.63846645\n",
      "  451.86910195  452.00764847  452.4116254   452.41532497  452.50203476\n",
      "  454.68318385  455.01339195  457.0536146   457.15343001  457.23814675\n",
      "  457.63961723  457.72252184  459.76335156  461.83765638  462.04382246\n",
      "  462.0630785   462.07741191  462.22992772  463.78597247  466.53444551\n",
      "  466.67448839  466.74942434  467.27595929  467.36732225  467.71484413\n",
      "  468.1623068   469.24556522  469.67546927  469.67634833  470.36710968\n",
      "  472.00932342  472.22241279  472.4905232   478.67444936  480.37844792\n",
      "  480.44800116  480.45338529  480.75480823  481.5064074   482.97285508\n",
      "  486.47157513  486.48449231  487.30357453  488.903216    489.0007547\n",
      "  489.73170777  491.96363893  492.98481577  494.28578     501.04068514\n",
      "  501.88189795  509.56807027  509.80461449  510.97010514  522.33108331\n",
      "  522.71339996  522.76617652  535.52041496  535.96433418  535.96441585\n",
      "  539.26229496  540.62693636  549.77183774  552.41652144  552.9860985\n",
      "  558.63350769  559.83292505  560.96557201  565.80043657  565.85563631\n",
      "  566.83628622  571.74152052  575.94721987  585.3662312   588.57467471\n",
      "  589.10306178  591.08465921  591.88359827  599.96621184  607.25211645\n",
      "  612.5963723   620.30413704  621.0502165   624.16209508  625.19732216\n",
      "  632.92170036  639.2177506   639.61145418  642.18353296  642.21743251\n",
      "  645.12832625  645.74605012  658.84403912  664.19875702  669.4620823\n",
      "  669.56798992  671.1983011   671.20408554  671.64341861  677.59818203\n",
      "  687.1673404   687.34029361  688.17870765  688.17935209  693.68945665\n",
      "  696.92004362  697.7375831   698.11325293  698.22242682  698.80949034\n",
      "  700.52017281  702.95029306  703.10577167  703.45863871  703.4610027\n",
      "  706.26941558  706.8573422   713.49014558  722.78769816  735.06587889\n",
      "  741.47364465  760.10517835  760.80794261  772.39771606  800.15195264\n",
      "  826.14733811  829.1811525   850.09239911  865.50468578  888.60860807\n",
      "  890.48497715  897.50387212  900.45855582  909.95779492  912.73638191\n",
      "  932.9701828   933.31476853  940.28570901  956.20891963  958.88697334\n",
      "  966.17536084  977.75613949  982.0739421   982.72445521  988.2352972\n",
      "  991.0183355   991.23014823  994.2718351   998.32743658  998.44647233\n",
      "  999.61336676  999.7019262   999.71642978 1000.73436657 1006.59477075\n",
      " 1014.69032231 1015.50554573 1019.56683124 1019.74803041 1019.89265203\n",
      " 1020.50225761 1021.51115449 1024.52656634 1028.9920682  1029.41405301\n",
      " 1036.27258515 1041.08214182 1041.468512   1068.4267256  1091.49256097\n",
      " 1108.41549433 1112.94002532 1155.80527778 1162.93959017 1163.90943646\n",
      " 1180.53954396 1204.91513795 1211.06683511 1237.71880473 1269.51673259\n",
      " 1275.36171699 1275.37394319 1277.89053814 1288.46228424 1294.02299532\n",
      " 1335.03996955 1389.35168374 1403.25603994 1403.87209919 1435.09251319\n",
      " 1437.43856034 1451.76610996 1466.38580163 1467.34484847 1470.21572874\n",
      " 1475.74028066 1477.43510027 1493.33183645 1498.62338268 1501.14797487\n",
      " 1501.33512344 1516.30277683 1516.98548622 1518.66382266 1536.58097862\n",
      " 1576.18526475 1580.34490437 1580.93185975 1581.21556521 1591.16023651\n",
      " 1591.26548294 1607.21314108 1608.0742117  1608.57895101 1609.74816116\n",
      " 1610.68163029 1620.93541234 1625.74974932 1626.16859811 1627.00822935\n",
      " 1633.26976082 1635.45121994 1642.93334781 1647.01072739 1651.71780382\n",
      " 1651.78897245 1654.68076886 1656.09824819 1656.18677691 1656.73114208\n",
      " 1657.26321679 1657.4227232  1657.42459832 1660.56834589 1663.17457626\n",
      " 1664.23002156]\n",
      "P-values for Ljung-Box test: [2.61311326e-05 2.64311471e-06 4.09312020e-07 4.95907085e-09\n",
      " 1.08853255e-08 1.36320034e-10 9.30754537e-15 9.35361078e-16\n",
      " 1.45149536e-17 2.58523839e-20 2.86446102e-20 2.25194726e-20\n",
      " 7.30950605e-20 1.89814036e-19 4.42535374e-19 4.53025768e-19\n",
      " 2.32279414e-19 9.50087097e-20 2.16673378e-22 7.59467180e-24\n",
      " 1.16868784e-23 9.04659953e-24 9.36204702e-24 1.30702705e-23\n",
      " 1.93482669e-23 3.86722905e-23 1.83198991e-23 3.33686471e-23\n",
      " 8.47236261e-23 4.62329166e-23 9.88203816e-23 2.34779600e-22\n",
      " 1.36068296e-22 1.81740117e-22 1.46711663e-22 1.31116817e-22\n",
      " 2.75939469e-22 3.16755191e-22 6.89771117e-22 1.11013166e-21\n",
      " 1.38479219e-21 1.84330396e-21 2.39321017e-21 5.15606462e-21\n",
      " 6.94608759e-21 1.35438942e-20 6.86195276e-21 1.28944095e-20\n",
      " 2.37480532e-20 1.85144904e-20 7.69486650e-21 1.13781291e-20\n",
      " 1.80141463e-20 3.44894950e-20 6.79415615e-20 1.33567497e-19\n",
      " 1.25098623e-19 2.04505724e-19 3.64033316e-19 6.85409493e-19\n",
      " 9.95834348e-19 1.34313351e-18 1.27253033e-18 2.30697264e-18\n",
      " 1.23884582e-18 9.16012430e-19 8.83082576e-19 1.89640218e-19\n",
      " 2.12796196e-19 2.61220212e-19 4.59306457e-19 3.32243910e-19\n",
      " 5.79187515e-19 7.45572272e-19 8.93321754e-19 6.20373830e-19\n",
      " 1.02256845e-18 1.49891852e-18 2.62194568e-18 4.02856965e-18\n",
      " 7.00696499e-18 7.73914830e-18 1.15690836e-17 8.09490078e-18\n",
      " 6.93757446e-18 1.05556028e-17 1.54504151e-17 2.40158786e-17\n",
      " 3.53604546e-17 5.87528150e-17 5.57503020e-17 5.65631219e-17\n",
      " 5.12466607e-17 1.79946933e-17 2.90475170e-17 4.06346752e-17\n",
      " 6.02774594e-17 9.54289969e-17 1.48179720e-16 2.22649368e-16\n",
      " 2.58623552e-16 2.78768269e-16 2.76529117e-16 2.82083698e-16\n",
      " 2.95478980e-16 3.97914775e-16 6.29482648e-16 1.00551741e-15\n",
      " 1.17750011e-15 1.75779422e-15 2.64055512e-15 4.13548059e-15\n",
      " 3.64075157e-15 5.68473485e-15 5.46429515e-15 7.58496335e-15\n",
      " 9.00364371e-15 1.36332768e-14 1.71792573e-14 2.59093062e-14\n",
      " 3.69148066e-14 5.42866581e-14 6.81333376e-14 9.03049695e-14\n",
      " 7.57281893e-14 7.38615507e-14 1.01443726e-13 1.52221402e-13\n",
      " 2.20838608e-13 2.57035808e-13 3.81658741e-13 3.73246320e-13\n",
      " 4.54105967e-13 6.50489936e-13 9.07752386e-13 1.32685611e-12\n",
      " 6.27687930e-13 7.60339083e-13 9.87515089e-13 1.37387618e-12\n",
      " 1.84595027e-12 2.55485001e-12 2.10276795e-12 2.81465822e-12\n",
      " 4.04434958e-12 5.42983485e-12 7.74318496e-12 1.09366195e-11\n",
      " 1.45953218e-11 1.91276197e-11 2.63233111e-11 3.54831055e-11\n",
      " 4.91123689e-11 5.82834324e-11 7.57533284e-11 1.03197091e-10\n",
      " 1.29094947e-10 1.74590104e-10 2.37372897e-10 2.85639183e-10\n",
      " 3.86855710e-10 5.27597080e-10 7.03195648e-10 9.20851277e-10\n",
      " 1.19370293e-09 1.45183568e-09 1.96091366e-09 2.58132334e-09\n",
      " 3.30036925e-09 4.37994374e-09 3.90547373e-09 5.18792465e-09\n",
      " 6.91185654e-09 8.41797963e-09 1.09908143e-08 1.28193129e-08\n",
      " 1.68462583e-08 2.08332511e-08 2.21581410e-08 1.26641084e-08\n",
      " 1.64904940e-08 2.06381377e-08 2.63217019e-08 2.56047334e-08\n",
      " 3.09201052e-08 3.80968649e-08 4.95303831e-08 4.85455013e-08\n",
      " 4.81736582e-08 5.59470819e-08 7.17010721e-08 9.10249149e-08\n",
      " 1.17023261e-07 1.23455388e-07 1.35309192e-07 1.72143501e-07\n",
      " 2.13827496e-07 1.38801262e-07 1.65097258e-07 1.97605236e-07\n",
      " 2.41467500e-07 3.06372678e-07 3.79986766e-07 4.68062135e-07\n",
      " 5.89558857e-07 7.27223660e-07 8.89606118e-07 1.01720031e-06\n",
      " 1.24290262e-06 1.52228105e-06 1.80959523e-06 2.22093960e-06\n",
      " 2.70648668e-06 3.13842929e-06 3.87917965e-06 4.77041741e-06\n",
      " 5.79342322e-06 7.05057648e-06 7.09443796e-06 8.50931501e-06\n",
      " 1.03226721e-05 1.24113791e-05 1.46502722e-05 1.74853863e-05\n",
      " 2.06182459e-05 2.31829873e-05 2.64069883e-05 3.05494757e-05\n",
      " 2.70051840e-05 3.24511939e-05 3.88836126e-05 4.58137566e-05\n",
      " 5.13653281e-05 5.16700015e-05 5.85437452e-05 6.90465563e-05\n",
      " 8.19471595e-05 9.51373125e-05 1.09917715e-04 1.22334696e-04\n",
      " 1.31202881e-04 1.43460361e-04 1.67682784e-04 1.97326559e-04\n",
      " 2.24925421e-04 2.63455923e-04 2.95219916e-04 3.31337641e-04\n",
      " 3.80082980e-04 4.39655359e-04 5.11853025e-04 5.88855921e-04\n",
      " 6.82997467e-04 7.62347520e-04 8.81070347e-04 1.00858999e-03\n",
      " 1.15758567e-03 1.26425175e-03 1.42374867e-03 1.61364090e-03\n",
      " 1.76513458e-03 2.00075678e-03 2.10869881e-03 2.06507471e-03\n",
      " 2.32703266e-03 2.52304258e-03 2.62403082e-03 2.96040976e-03\n",
      " 3.08746220e-03 2.68778078e-03 3.04285280e-03 3.44656945e-03\n",
      " 3.80126963e-03 4.10870263e-03 4.63518168e-03 5.16726517e-03\n",
      " 5.54113989e-03 6.16199012e-03 6.85008007e-03 7.65213605e-03\n",
      " 8.01797431e-03 7.81640135e-03 8.61015927e-03 9.57457737e-03\n",
      " 1.03577166e-02 1.15270588e-02 1.24315688e-02 1.31019142e-02\n",
      " 1.40309427e-02 1.54594931e-02 1.69257398e-02 1.66982506e-02\n",
      " 1.83637964e-02 2.02260102e-02 2.11447066e-02 2.24914556e-02\n",
      " 2.43962850e-02 2.58831155e-02 2.83772102e-02 3.09170417e-02\n",
      " 3.29114920e-02 3.54135159e-02 3.86156601e-02 4.19784271e-02\n",
      " 4.56329238e-02 4.77503507e-02 5.15696514e-02 5.57409992e-02\n",
      " 5.99101189e-02 6.44934478e-02 6.95434174e-02 7.26230385e-02\n",
      " 7.81684310e-02 8.11174891e-02 8.70527931e-02 9.18975191e-02\n",
      " 9.72392210e-02 9.58523544e-02 1.00020419e-01 1.04156395e-01\n",
      " 1.06320480e-01 1.08741705e-01 1.16000821e-01 1.23733108e-01\n",
      " 1.31596363e-01 1.39133685e-01 1.47562783e-01 1.53213178e-01\n",
      " 1.61688102e-01 1.65311267e-01 1.74415799e-01 1.77226181e-01\n",
      " 1.62727755e-01 1.69720680e-01 1.72971880e-01 1.80442123e-01\n",
      " 1.83319303e-01 1.93331076e-01 1.97959122e-01 2.07903327e-01\n",
      " 2.02933239e-01 2.08937625e-01 2.19858377e-01 2.28471704e-01\n",
      " 2.40006210e-01 2.51594826e-01 2.59934723e-01 2.63055461e-01\n",
      " 2.75357602e-01 2.82122803e-01 2.93570503e-01 2.72808445e-01\n",
      " 2.65092094e-01 2.67354352e-01 2.76303277e-01 2.78505672e-01\n",
      " 2.83129742e-01 2.95197850e-01 3.05235229e-01 2.93803942e-01\n",
      " 3.02353679e-01 3.14782145e-01 3.26979123e-01 3.36873256e-01\n",
      " 3.48145088e-01 3.36038773e-01 3.38795077e-01 3.52330244e-01\n",
      " 3.58518052e-01 3.72120520e-01 3.72914801e-01 3.84971569e-01\n",
      " 3.86648322e-01 4.00689532e-01 4.11713460e-01 4.25920254e-01\n",
      " 4.36143591e-01 4.46835934e-01 4.58672542e-01 4.52857345e-01\n",
      " 4.67205111e-01 4.72717621e-01 4.79900602e-01 4.92251885e-01\n",
      " 5.06292488e-01 5.20615977e-01 5.34397481e-01 5.39889589e-01\n",
      " 5.53756384e-01 5.60535830e-01 5.73804482e-01 5.87611616e-01\n",
      " 5.89147942e-01 5.99794919e-01 6.13504615e-01 6.26452748e-01\n",
      " 6.38589874e-01 6.25748292e-01 6.32454311e-01 6.36329752e-01\n",
      " 6.45431801e-01 6.58408898e-01 6.54686301e-01 6.54059255e-01\n",
      " 6.64119163e-01 6.76694604e-01 6.89234117e-01 6.96087663e-01\n",
      " 7.08288387e-01 7.18883501e-01 7.23684299e-01 7.35310180e-01\n",
      " 7.41709142e-01 7.46771619e-01 7.54852763e-01 7.65660031e-01\n",
      " 7.60869295e-01 7.71563998e-01 7.80002806e-01 7.48211264e-01\n",
      " 7.58962957e-01 7.67342829e-01 7.72673321e-01 7.81271879e-01\n",
      " 7.89552578e-01 7.95978774e-01 8.04574344e-01 8.06821498e-01\n",
      " 8.14700208e-01 8.23732722e-01 8.30088391e-01 8.38315236e-01\n",
      " 8.46443027e-01 8.53415659e-01 8.61093318e-01 8.60833138e-01\n",
      " 8.65655758e-01 8.71753475e-01 8.76167438e-01 8.83024355e-01\n",
      " 8.89596941e-01 8.94144637e-01 8.86334350e-01 8.90804440e-01\n",
      " 8.96729164e-01 8.97285063e-01 8.97700469e-01 9.02826654e-01\n",
      " 9.03362489e-01 9.08146211e-01 9.10788539e-01 9.15498283e-01\n",
      " 9.14137514e-01 9.19114273e-01 9.23563362e-01 9.27647294e-01\n",
      " 9.32047890e-01 9.36007257e-01 9.39470894e-01 9.43358096e-01\n",
      " 9.44590693e-01 9.46384819e-01 9.47276234e-01 9.49048386e-01\n",
      " 9.51959464e-01 9.49602402e-01 9.48713167e-01 9.45032755e-01\n",
      " 9.47694489e-01 9.51151535e-01 9.46789143e-01 9.45806221e-01\n",
      " 9.45431482e-01 9.44413229e-01 9.33925375e-01 9.37344233e-01\n",
      " 9.39951693e-01 9.43071256e-01 9.46607055e-01 9.50011739e-01\n",
      " 9.52329440e-01 9.54420817e-01 9.54086682e-01 9.44066027e-01\n",
      " 9.47618236e-01 9.49506583e-01 9.50407333e-01 9.52066828e-01\n",
      " 9.54988229e-01 9.40105479e-01 9.43568146e-01 9.44781228e-01\n",
      " 9.27339516e-01 9.30193072e-01 9.33295937e-01 9.22730801e-01\n",
      " 9.26644902e-01 9.29195334e-01 9.33438484e-01 9.37133446e-01\n",
      " 9.31843730e-01 9.34560135e-01 9.29765366e-01 9.33545465e-01\n",
      " 9.37225917e-01 9.39475914e-01 9.42897211e-01 9.38581097e-01\n",
      " 9.33888074e-01 9.37034931e-01 9.40801689e-01 9.44405490e-01\n",
      " 9.47336266e-01 9.45121103e-01 9.38139841e-01 9.41367853e-01\n",
      " 9.44702170e-01 9.46260094e-01 9.49309146e-01 9.51362322e-01\n",
      " 9.53020865e-01 9.52578461e-01 9.54256281e-01 9.57197756e-01\n",
      " 9.57966444e-01 9.55855594e-01 9.58079695e-01 9.60053514e-01\n",
      " 9.42776034e-01 9.39885864e-01 9.43261750e-01 9.46713050e-01\n",
      " 9.48983500e-01 9.49661350e-01 9.47882429e-01 9.38398636e-01\n",
      " 9.42035159e-01 9.42535449e-01 9.40069136e-01 9.43305364e-01\n",
      " 9.44118315e-01 9.39284440e-01 9.39018477e-01 9.37649697e-01\n",
      " 9.11289681e-01 9.11894624e-01 8.72508176e-01 8.77265579e-01\n",
      " 8.75970078e-01 7.96299554e-01 8.01491706e-01 8.09405830e-01\n",
      " 6.95373076e-01 7.01159564e-01 7.11560665e-01 6.86875472e-01\n",
      " 6.82756265e-01 5.89998950e-01 5.70526050e-01 5.75548684e-01\n",
      " 5.20272533e-01 5.17878036e-01 5.16282754e-01 4.70745337e-01\n",
      " 4.81945200e-01 4.82190095e-01 4.36362864e-01 3.99570882e-01\n",
      " 3.08434125e-01 2.86389567e-01 2.91222921e-01 2.81715904e-01\n",
      " 2.83848457e-01 2.19254750e-01 1.70190822e-01 1.41020012e-01\n",
      " 1.03169270e-01 1.04642021e-01 9.44902133e-02 9.45060967e-02\n",
      " 6.68806880e-02 5.00405409e-02 5.19274696e-02 4.76227472e-02\n",
      " 5.04524257e-02 4.53631733e-02 4.65023393e-02 2.23469206e-02\n",
      " 1.68624918e-02 1.26743721e-02 1.35394602e-02 1.30232841e-02\n",
      " 1.40026458e-02 1.46094946e-02 1.04190322e-02 5.60800255e-03\n",
      " 5.99952346e-03 6.10524931e-03 6.61023194e-03 4.73789237e-03\n",
      " 4.01490183e-03 4.09603387e-03 4.32289578e-03 4.65430913e-03\n",
      " 4.83001494e-03 4.60210902e-03 4.14911972e-03 4.45180334e-03\n",
      " 4.70297458e-03 5.09922049e-03 4.47255216e-03 4.64083519e-03\n",
      " 3.02168708e-03 1.55462546e-03 5.93938023e-04 3.67690175e-04\n",
      " 6.83047269e-05 7.11396625e-05 2.42572123e-05 1.24446210e-06\n",
      " 5.81120502e-08 4.55693957e-08 3.25194566e-09 4.38766044e-10\n",
      " 1.71947581e-11 1.54836696e-11 6.33844702e-12 4.82638073e-12\n",
      " 1.31761150e-12 1.02618201e-12 4.73002024e-14 5.45395643e-14\n",
      " 2.10080573e-14 1.74854040e-15 1.36141753e-15 4.77127430e-16\n",
      " 7.75598357e-17 4.48329422e-17 4.97136616e-17 2.31778328e-17\n",
      " 1.75598185e-17 2.10885936e-17 1.52533944e-17 9.18540964e-18\n",
      " 1.12294788e-17 1.13674659e-17 1.39615643e-17 1.73642282e-17\n",
      " 1.80437871e-17 7.87580399e-18 2.27778886e-18 2.46005602e-18\n",
      " 1.47171651e-18 1.78473576e-18 2.17745972e-18 2.44041894e-18\n",
      " 2.54368285e-18 1.84285449e-18 1.02446294e-18 1.18907822e-18\n",
      " 4.25636232e-19 2.20699129e-19 2.58512363e-19 2.05750152e-21\n",
      " 2.94956913e-23 1.29466006e-24 6.71539854e-25 1.18547821e-28\n",
      " 3.40806301e-29 3.65965375e-29 1.33700150e-30 8.29782256e-33\n",
      " 2.81959988e-33 9.04682887e-36 7.56847702e-39 2.61768089e-39\n",
      " 3.59237331e-39 2.72726571e-39 3.06082580e-40 1.12278324e-40\n",
      " 7.42749300e-45 1.24511381e-50 5.00834028e-52 6.13559096e-52\n",
      " 2.62229279e-55 2.05373210e-55 6.82566310e-57 2.04871523e-58\n",
      " 2.32035911e-58 1.57866481e-58 5.28871757e-59 4.92424183e-59\n",
      " 1.01779579e-60 3.59940306e-61 2.68256227e-61 3.75457945e-61\n",
      " 9.67128633e-63 1.18730386e-62 1.11253399e-62 1.25405012e-64\n",
      " 3.33750835e-69 1.57206761e-69 2.00570169e-69 2.78340370e-69\n",
      " 2.60855514e-70 3.81098790e-70 6.58245828e-72 7.80369122e-72\n",
      " 1.02220971e-71 1.11081217e-71 1.28936977e-71 1.09203643e-72\n",
      " 4.25568648e-73 5.71959727e-73 6.82568977e-73 1.76964408e-73\n",
      " 1.44766558e-73 2.65326355e-74 1.27012810e-74 5.08537042e-75\n",
      " 7.55956201e-75 5.05905536e-75 5.13743483e-75 7.59401878e-75\n",
      " 9.86385985e-75 1.28514874e-74 1.85898728e-74 2.80937361e-74\n",
      " 1.75279854e-74 1.27221308e-74 1.42890363e-74]\n"
     ]
    }
   ],
   "source": [
    "lags = len(model_selected.resid[1:1000])\n",
    "acf, q_stat, p_values = sm.tsa.acf(model_selected.resid, nlags=lags, qstat=True)\n",
    "\n",
    "plt.figure(figsize=(15,5))\n",
    "plt.bar(range(1, lags+1), acf[1:])\n",
    "plt.xlabel('Lag')\n",
    "plt.ylabel('Autocorrelation')\n",
    "plt.title('Autocorrelation Function (ACF)')\n",
    "plt.show()\n",
    "\n",
    "# Print Ljung-Box test results\n",
    "print('Ljung-Box Q-statistic:', q_stat)\n",
    "print('P-values for Ljung-Box test:', p_values)"
   ]
  },
  {
   "cell_type": "markdown",
   "metadata": {},
   "source": [
    "***From the above correlogram test we can say that the probality value is lesser then 0.05 significance level hence we can reject the null hypothesis and accept the alternate hypothesis, which states that the residuals are auto-coreelated or partially auto-coreelated***"
   ]
  },
  {
   "cell_type": "markdown",
   "metadata": {},
   "source": [
    "***Durbin Watson Test***"
   ]
  },
  {
   "cell_type": "code",
   "execution_count": 134,
   "metadata": {},
   "outputs": [
    {
     "data": {
      "text/plain": [
       "1.684926696335385"
      ]
     },
     "execution_count": 134,
     "metadata": {},
     "output_type": "execute_result"
    }
   ],
   "source": [
    "sm.stats.durbin_watson(model_selected.resid)"
   ]
  },
  {
   "cell_type": "markdown",
   "metadata": {},
   "source": [
    "# Heteroscedasticity Test"
   ]
  },
  {
   "cell_type": "markdown",
   "metadata": {},
   "source": [
    "***White Test***"
   ]
  },
  {
   "cell_type": "markdown",
   "metadata": {},
   "source": [
    "* Null hypothesis: Data is not Heteroscedastic.\n",
    "* Alternate hypothesis: Data is Heteroscedastic."
   ]
  },
  {
   "cell_type": "code",
   "execution_count": 135,
   "metadata": {},
   "outputs": [
    {
     "name": "stdout",
     "output_type": "stream",
     "text": [
      "lm value: 2.3719476723447792e-20\n",
      "lm pvalue: 5.062350168501059\n",
      "f_stats value: 5.062350168501059\n",
      "f_stats_pvalues: 5.762079413793562e-25\n"
     ]
    }
   ],
   "source": [
    "lm, lm_pvalue, f_stats, f_stats_pvalue = sm.stats.diagnostic.het_white(model_selected.resid, x)\n",
    "print(\"lm value: {}\\nlm pvalue: {}\\nf_stats value: {}\\nf_stats_pvalues: {}\".format(lm_pvalue, f_stats, f_stats, f_stats_pvalue))"
   ]
  },
  {
   "cell_type": "markdown",
   "metadata": {},
   "source": [
    "***In the above test for Heteroscedasticity, we have enough evidence to reject the null hypothesis and accepting the alternate hypothesis saying that the data is hetereoscedastic. we came to know that the data is hestroscedastic and hence we cannot not move forward without dealing with this kind of issue.***"
   ]
  },
  {
   "cell_type": "markdown",
   "metadata": {},
   "source": [
    "***BPG-Test: Breuch Pagan Godfrey Test***"
   ]
  },
  {
   "cell_type": "markdown",
   "metadata": {},
   "source": [
    "* Null hypothesis: Data is not Heteroscedastic.\n",
    "* ALtered hypothesis: Data is Heteroscedastic."
   ]
  },
  {
   "cell_type": "code",
   "execution_count": 136,
   "metadata": {},
   "outputs": [
    {
     "data": {
      "text/plain": [
       "(94.46660429422779,\n",
       " 2.0594003717388768e-16,\n",
       " 11.886939528682728,\n",
       " 1.407787661855568e-17)"
      ]
     },
     "execution_count": 136,
     "metadata": {},
     "output_type": "execute_result"
    }
   ],
   "source": [
    "sm.stats.het_breuschpagan(model_selected.resid, x)"
   ]
  },
  {
   "cell_type": "markdown",
   "metadata": {},
   "source": [
    "***Glejser Test***"
   ]
  },
  {
   "cell_type": "markdown",
   "metadata": {},
   "source": [
    "* Null hypothesis: Data is not Heteroscedastic.\n",
    "* Altered hypothesis: Data is Heteroscedastic."
   ]
  },
  {
   "cell_type": "code",
   "execution_count": 137,
   "metadata": {},
   "outputs": [
    {
     "data": {
      "text/plain": [
       "(1.9220190229990768, 5.103312842446652e-10, 'increasing')"
      ]
     },
     "execution_count": 137,
     "metadata": {},
     "output_type": "execute_result"
    }
   ],
   "source": [
    "sm.stats.het_goldfeldquandt(model_selected.resid, x)"
   ]
  },
  {
   "cell_type": "markdown",
   "metadata": {},
   "source": [
    "# Multicollinearity Test"
   ]
  },
  {
   "cell_type": "markdown",
   "metadata": {},
   "source": [
    "***VIF Test***"
   ]
  },
  {
   "cell_type": "code",
   "execution_count": 138,
   "metadata": {},
   "outputs": [
    {
     "name": "stdout",
     "output_type": "stream",
     "text": [
      "   Variable            VIF\n",
      "0     const  592619.310219\n",
      "1  Platform       1.032869\n",
      "2  Hashtags       1.037591\n",
      "3  Retweets     342.737655\n",
      "4     Likes     342.264928\n",
      "5   Country       1.015263\n",
      "6      Year       1.135843\n",
      "7     Month       1.181320\n",
      "8       Day       1.034784\n",
      "9      Hour       1.099399\n"
     ]
    }
   ],
   "source": [
    "from statsmodels.stats.outliers_influence import variance_inflation_factor\n",
    "\n",
    "vif_data = pd.DataFrame()\n",
    "vif_data[\"Variable\"] = x.columns\n",
    "vif_data[\"VIF\"] = [variance_inflation_factor(x.values, i) for i in range(x.shape[1])]\n",
    "\n",
    "print(vif_data)"
   ]
  },
  {
   "cell_type": "markdown",
   "metadata": {},
   "source": [
    "***From the above VIF test, we can say that the there is no multicollinearity among the independent variables except for the variables Retweets and Likes, these both independents values are greater than 1. Hence, we can say that the Retweets and Likes are multicollinearity among the independent variables.***"
   ]
  },
  {
   "cell_type": "code",
   "execution_count": 146,
   "metadata": {},
   "outputs": [
    {
     "name": "stdout",
     "output_type": "stream",
     "text": [
      "Mean Absolute Error: 34.51950177302407\n",
      "Mean Squared Error: 2427.740423294319\n",
      "R-squared: 0.5115421086841809\n"
     ]
    }
   ],
   "source": [
    "from sklearn.metrics import mean_absolute_error, mean_squared_error, r2_score\n",
    "\n",
    "mae = mean_absolute_error(y_test, y_hat)\n",
    "mse = mean_squared_error(y_test, y_hat)\n",
    "r2 = r2_score(y_test, y_hat)\n",
    "\n",
    "print(f'Mean Absolute Error: {mae}')\n",
    "print(f'Mean Squared Error: {mse}')\n",
    "print(f'R-squared: {r2}')"
   ]
  },
  {
   "cell_type": "code",
   "execution_count": 140,
   "metadata": {},
   "outputs": [
    {
     "data": {
      "text/plain": [
       "0.646926770880393"
      ]
     },
     "execution_count": 140,
     "metadata": {},
     "output_type": "execute_result"
    }
   ],
   "source": [
    "from sklearn.metrics import confusion_matrix, roc_curve, accuracy_score\n",
    "r2_score = clf.score(X_test, y_test)\n",
    "r2_score"
   ]
  },
  {
   "cell_type": "code",
   "execution_count": 141,
   "metadata": {},
   "outputs": [
    {
     "name": "stdout",
     "output_type": "stream",
     "text": [
      "                            OLS Regression Results                            \n",
      "==============================================================================\n",
      "Dep. Variable:              Sentiment   R-squared:                       0.606\n",
      "Model:                            OLS   Adj. R-squared:                  0.604\n",
      "Method:                 Least Squares   F-statistic:                     279.2\n",
      "Date:                Thu, 11 Jan 2024   Prob (F-statistic):          2.72e-145\n",
      "Time:                        21:58:49   Log-Likelihood:                -3845.5\n",
      "No. Observations:                 732   AIC:                             7701.\n",
      "Df Residuals:                     727   BIC:                             7724.\n",
      "Df Model:                           4                                         \n",
      "Covariance Type:            nonrobust                                         \n",
      "==============================================================================\n",
      "                 coef    std err          t      P>|t|      [0.025      0.975]\n",
      "------------------------------------------------------------------------------\n",
      "const         49.1842      6.711      7.329      0.000      36.010      62.359\n",
      "Hashtags       0.2873      0.009     33.349      0.000       0.270       0.304\n",
      "Retweets      -9.7793      4.462     -2.192      0.029     -18.540      -1.019\n",
      "Likes          4.8526      2.235      2.171      0.030       0.465       9.240\n",
      "Month         -1.4611      0.508     -2.873      0.004      -2.459      -0.463\n",
      "==============================================================================\n",
      "Omnibus:                       88.775   Durbin-Watson:                   1.685\n",
      "Prob(Omnibus):                  0.000   Jarque-Bera (JB):              284.457\n",
      "Skew:                           0.568   Prob(JB):                     1.70e-62\n",
      "Kurtosis:                       5.835   Cond. No.                     1.59e+03\n",
      "==============================================================================\n",
      "\n",
      "Notes:\n",
      "[1] Standard Errors assume that the covariance matrix of the errors is correctly specified.\n",
      "[2] The condition number is large, 1.59e+03. This might indicate that there are\n",
      "strong multicollinearity or other numerical problems.\n"
     ]
    }
   ],
   "source": [
    "import statsmodels.api as sm\n",
    "\n",
    "selected_features = ['Hashtags', 'Retweets', 'Likes', 'Month']\n",
    "X_selected = x[selected_features]\n",
    "\n",
    "# Add a constant term to the independent variables matrix\n",
    "X_selected = sm.add_constant(X_selected)\n",
    "\n",
    "model_selected = sm.OLS(Y, X_selected).fit()\n",
    "\n",
    "print(model_selected.summary())"
   ]
  },
  {
   "cell_type": "code",
   "execution_count": 142,
   "metadata": {},
   "outputs": [],
   "source": [
    "from sklearn.linear_model import LinearRegression\n",
    "from sklearn.model_selection import train_test_split\n",
    "\n",
    "X_train, X_test, y_train, y_test = train_test_split(x, Y, test_size=0.2)\n",
    "\n",
    "clf = LinearRegression()\n",
    "\n",
    "clf.fit(X_train, y_train)\n",
    "y_hat = clf.predict(X_test)"
   ]
  },
  {
   "cell_type": "code",
   "execution_count": 143,
   "metadata": {},
   "outputs": [
    {
     "data": {
      "text/plain": [
       "array([-1594.96827124])"
      ]
     },
     "execution_count": 143,
     "metadata": {},
     "output_type": "execute_result"
    }
   ],
   "source": [
    "clf.intercept_"
   ]
  },
  {
   "cell_type": "code",
   "execution_count": 144,
   "metadata": {},
   "outputs": [
    {
     "data": {
      "text/plain": [
       "array([[ 0.        , -1.0312992 ,  0.29188912, -6.46798256,  3.15266972,\n",
       "         0.06180916,  0.80618374, -1.01986226,  0.18354852,  0.56934911]])"
      ]
     },
     "execution_count": 144,
     "metadata": {},
     "output_type": "execute_result"
    }
   ],
   "source": [
    "clf.coef_"
   ]
  },
  {
   "cell_type": "code",
   "execution_count": 145,
   "metadata": {},
   "outputs": [
    {
     "data": {
      "text/plain": [
       "array([[161.72801981],\n",
       "       [138.80000803],\n",
       "       [ 60.71076621],\n",
       "       [108.66058896],\n",
       "       [148.9831079 ],\n",
       "       [184.01957003],\n",
       "       [105.73341208],\n",
       "       [239.33354438],\n",
       "       [ 81.12177282],\n",
       "       [184.37978476],\n",
       "       [ 43.60517055],\n",
       "       [230.96577716],\n",
       "       [ 76.00486293],\n",
       "       [195.94231589],\n",
       "       [176.05623455],\n",
       "       [ 83.88573341],\n",
       "       [122.75902365],\n",
       "       [148.1684056 ],\n",
       "       [146.8165523 ],\n",
       "       [ 71.01438462],\n",
       "       [192.62304872],\n",
       "       [227.36421078],\n",
       "       [ 50.23625112],\n",
       "       [167.74379404],\n",
       "       [216.2709106 ],\n",
       "       [111.53720021],\n",
       "       [128.37406207],\n",
       "       [157.02305436],\n",
       "       [ 47.93692191],\n",
       "       [ 55.15237116],\n",
       "       [136.21206945],\n",
       "       [ 43.13621264],\n",
       "       [221.39122925],\n",
       "       [220.01337438],\n",
       "       [177.34458355],\n",
       "       [ 82.56113112],\n",
       "       [224.71870385],\n",
       "       [135.85225934],\n",
       "       [184.77331829],\n",
       "       [ 68.24117572],\n",
       "       [236.29193525],\n",
       "       [133.0659854 ],\n",
       "       [ 92.89857645],\n",
       "       [241.38899328],\n",
       "       [110.54556788],\n",
       "       [225.78425798],\n",
       "       [ 52.60461175],\n",
       "       [ 94.28950492],\n",
       "       [ 91.29122683],\n",
       "       [ 96.63055334],\n",
       "       [199.93884364],\n",
       "       [222.21813262],\n",
       "       [170.94633093],\n",
       "       [242.97122961],\n",
       "       [ 99.63536318],\n",
       "       [151.37596733],\n",
       "       [209.79746622],\n",
       "       [123.73120798],\n",
       "       [116.1916226 ],\n",
       "       [172.93774613],\n",
       "       [216.59306282],\n",
       "       [139.67382564],\n",
       "       [178.60127386],\n",
       "       [120.59754073],\n",
       "       [ 81.37220292],\n",
       "       [218.04382101],\n",
       "       [206.27018153],\n",
       "       [154.84628249],\n",
       "       [ 91.19452692],\n",
       "       [202.12899537],\n",
       "       [170.54194715],\n",
       "       [192.27038789],\n",
       "       [195.94404596],\n",
       "       [171.26793852],\n",
       "       [216.96387008],\n",
       "       [ 95.98801364],\n",
       "       [ 95.7296527 ],\n",
       "       [ 97.30026998],\n",
       "       [232.21561974],\n",
       "       [241.48778703],\n",
       "       [177.55187838],\n",
       "       [208.18386488],\n",
       "       [128.68629013],\n",
       "       [ 47.94285255],\n",
       "       [190.38749506],\n",
       "       [145.39519176],\n",
       "       [207.58048567],\n",
       "       [ 45.58296328],\n",
       "       [217.8737433 ],\n",
       "       [ 93.87918102],\n",
       "       [184.31045173],\n",
       "       [215.73474559],\n",
       "       [180.96008143],\n",
       "       [151.59352597],\n",
       "       [ 58.50900211],\n",
       "       [192.10780313],\n",
       "       [230.11075088],\n",
       "       [109.25613263],\n",
       "       [124.56361302],\n",
       "       [141.61669576],\n",
       "       [166.82754337],\n",
       "       [163.66132569],\n",
       "       [101.03292943],\n",
       "       [139.83938914],\n",
       "       [104.55979512],\n",
       "       [227.28532017],\n",
       "       [209.86603825],\n",
       "       [185.13316104],\n",
       "       [145.02894625],\n",
       "       [ 68.2634668 ],\n",
       "       [ 41.27804388],\n",
       "       [149.94132478],\n",
       "       [238.52854349],\n",
       "       [111.82908933],\n",
       "       [ 73.2470473 ],\n",
       "       [224.11910766],\n",
       "       [203.59828511],\n",
       "       [131.96980083],\n",
       "       [248.53679763],\n",
       "       [ 80.9698865 ],\n",
       "       [ 89.01961752],\n",
       "       [133.26350974],\n",
       "       [153.37607922],\n",
       "       [ 53.99867397],\n",
       "       [198.32563942],\n",
       "       [225.04665002],\n",
       "       [121.09015046],\n",
       "       [195.00867083],\n",
       "       [159.30379938],\n",
       "       [134.14885101],\n",
       "       [ 65.25341174],\n",
       "       [ 80.8245588 ],\n",
       "       [174.04556862],\n",
       "       [ 87.56734736],\n",
       "       [ 71.51396577],\n",
       "       [198.17227948],\n",
       "       [157.41165957],\n",
       "       [ 75.13936641],\n",
       "       [200.20094914],\n",
       "       [125.24957432],\n",
       "       [241.25642115],\n",
       "       [154.91479992],\n",
       "       [145.73964741],\n",
       "       [ 82.69988096],\n",
       "       [214.31643899],\n",
       "       [159.3416795 ],\n",
       "       [ 65.57430025]])"
      ]
     },
     "execution_count": 145,
     "metadata": {},
     "output_type": "execute_result"
    }
   ],
   "source": [
    "y_hat"
   ]
  }
 ],
 "metadata": {
  "kernelspec": {
   "display_name": "base",
   "language": "python",
   "name": "python3"
  },
  "language_info": {
   "codemirror_mode": {
    "name": "ipython",
    "version": 3
   },
   "file_extension": ".py",
   "mimetype": "text/x-python",
   "name": "python",
   "nbconvert_exporter": "python",
   "pygments_lexer": "ipython3",
   "version": "3.11.5"
  }
 },
 "nbformat": 4,
 "nbformat_minor": 2
}
